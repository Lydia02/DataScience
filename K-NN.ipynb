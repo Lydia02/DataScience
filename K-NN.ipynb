{
 "cells": [
  {
   "cell_type": "code",
   "execution_count": 21,
   "metadata": {},
   "outputs": [],
   "source": [
    "import numpy as np\n",
    "import  matplotlib.pyplot as plt  \n",
    "import pandas as pd \n",
    "import warnings\n",
    "warnings.filterwarnings('ignore')\n",
    "import seaborn as sns\n",
    "import os, sys"
   ]
  },
  {
   "cell_type": "code",
   "execution_count": 2,
   "metadata": {},
   "outputs": [
    {
     "data": {
      "text/plain": [
       "['.DS_Store',\n",
       " '.ipynb_checkpoints',\n",
       " 'classification_template.py',\n",
       " 'classification_template.R',\n",
       " 'K-NN.ipynb',\n",
       " 'knn.py',\n",
       " 'knn.R',\n",
       " 'Social_Network_Ads.csv']"
      ]
     },
     "execution_count": 2,
     "metadata": {},
     "output_type": "execute_result"
    }
   ],
   "source": [
    "os.listdir()"
   ]
  },
  {
   "cell_type": "code",
   "execution_count": 3,
   "metadata": {},
   "outputs": [],
   "source": [
    "dataset = pd.read_csv('Social_Network_Ads.csv')"
   ]
  },
  {
   "cell_type": "code",
   "execution_count": 4,
   "metadata": {},
   "outputs": [
    {
     "data": {
      "text/plain": [
       "<bound method DataFrame.info of       User ID  Gender  Age  EstimatedSalary  Purchased\n",
       "0    15624510    Male   19            19000          0\n",
       "1    15810944    Male   35            20000          0\n",
       "2    15668575  Female   26            43000          0\n",
       "3    15603246  Female   27            57000          0\n",
       "4    15804002    Male   19            76000          0\n",
       "..        ...     ...  ...              ...        ...\n",
       "395  15691863  Female   46            41000          1\n",
       "396  15706071    Male   51            23000          1\n",
       "397  15654296  Female   50            20000          1\n",
       "398  15755018    Male   36            33000          0\n",
       "399  15594041  Female   49            36000          1\n",
       "\n",
       "[400 rows x 5 columns]>"
      ]
     },
     "execution_count": 4,
     "metadata": {},
     "output_type": "execute_result"
    }
   ],
   "source": [
    "dataset.info"
   ]
  },
  {
   "cell_type": "code",
   "execution_count": 5,
   "metadata": {},
   "outputs": [],
   "source": [
    "X = dataset.iloc[:, [2, 3]].values\n",
    "y = dataset.iloc[:, 4].values"
   ]
  },
  {
   "cell_type": "code",
   "execution_count": 6,
   "metadata": {},
   "outputs": [],
   "source": [
    "from sklearn.model_selection import train_test_split\n",
    "X_train, X_test, y_train, y_test = train_test_split(X, y, test_size = 0.25, random_state = 0)"
   ]
  },
  {
   "cell_type": "code",
   "execution_count": 7,
   "metadata": {},
   "outputs": [],
   "source": [
    "from sklearn.preprocessing import StandardScaler"
   ]
  },
  {
   "cell_type": "code",
   "execution_count": 8,
   "metadata": {},
   "outputs": [],
   "source": [
    "from sklearn.preprocessing import StandardScaler\n",
    "sc_X = StandardScaler()\n",
    "X_train = sc_X.fit_transform(X_train)\n",
    "X_test = sc_X.transform(X_test)"
   ]
  },
  {
   "cell_type": "code",
   "execution_count": 24,
   "metadata": {},
   "outputs": [],
   "source": [
    "from sklearn.svm import SVC"
   ]
  },
  {
   "cell_type": "code",
   "execution_count": 25,
   "metadata": {},
   "outputs": [
    {
     "data": {
      "text/plain": [
       "SVC(C=1.0, cache_size=200, class_weight=None, coef0=0.0,\n",
       "    decision_function_shape='ovr', degree=3, gamma='auto_deprecated',\n",
       "    kernel='linear', max_iter=-1, probability=False, random_state=0,\n",
       "    shrinking=True, tol=0.001, verbose=False)"
      ]
     },
     "execution_count": 25,
     "metadata": {},
     "output_type": "execute_result"
    }
   ],
   "source": [
    "classifier = SVC(kernel = 'linear', random_state = 0)\n",
    "classifier.fit(X_train, y_train)"
   ]
  },
  {
   "cell_type": "code",
   "execution_count": 18,
   "metadata": {},
   "outputs": [
    {
     "data": {
      "text/plain": [
       "KNeighborsClassifier(algorithm='auto', leaf_size=30, metric='minkowski',\n",
       "                     metric_params=None, n_jobs=None, n_neighbors=5, p=2,\n",
       "                     weights='uniform')"
      ]
     },
     "execution_count": 18,
     "metadata": {},
     "output_type": "execute_result"
    }
   ],
   "source": [
    "classifier.fit(X_train, y_train)"
   ]
  },
  {
   "cell_type": "code",
   "execution_count": 19,
   "metadata": {},
   "outputs": [],
   "source": [
    "y_pred = classifier.predict(X_test)"
   ]
  },
  {
   "cell_type": "code",
   "execution_count": 12,
   "metadata": {},
   "outputs": [
    {
     "data": {
      "text/plain": [
       "array([[-0.80480212,  0.50496393],\n",
       "       [-0.01254409, -0.5677824 ],\n",
       "       [-0.30964085,  0.1570462 ],\n",
       "       [-0.80480212,  0.27301877],\n",
       "       [-0.30964085, -0.5677824 ],\n",
       "       [-1.10189888, -1.43757673],\n",
       "       [-0.70576986, -1.58254245],\n",
       "       [-0.21060859,  2.15757314],\n",
       "       [-1.99318916, -0.04590581],\n",
       "       [ 0.8787462 , -0.77073441],\n",
       "       [-0.80480212, -0.59677555],\n",
       "       [-1.00286662, -0.42281668],\n",
       "       [-0.11157634, -0.42281668],\n",
       "       [ 0.08648817,  0.21503249],\n",
       "       [-1.79512465,  0.47597078],\n",
       "       [-0.60673761,  1.37475825],\n",
       "       [-0.11157634,  0.21503249],\n",
       "       [-1.89415691,  0.44697764],\n",
       "       [ 1.67100423,  1.75166912],\n",
       "       [-0.30964085, -1.37959044],\n",
       "       [-0.30964085, -0.65476184],\n",
       "       [ 0.8787462 ,  2.15757314],\n",
       "       [ 0.28455268, -0.53878926],\n",
       "       [ 0.8787462 ,  1.02684052],\n",
       "       [-1.49802789, -1.20563157],\n",
       "       [ 1.07681071,  2.07059371],\n",
       "       [-1.00286662,  0.50496393],\n",
       "       [-0.90383437,  0.30201192],\n",
       "       [-0.11157634, -0.21986468],\n",
       "       [-0.60673761,  0.47597078],\n",
       "       [-1.6960924 ,  0.53395707],\n",
       "       [-0.11157634,  0.27301877],\n",
       "       [ 1.86906873, -0.27785096],\n",
       "       [-0.11157634, -0.48080297],\n",
       "       [-1.39899564, -0.33583725],\n",
       "       [-1.99318916, -0.50979612],\n",
       "       [-1.59706014,  0.33100506],\n",
       "       [-0.4086731 , -0.77073441],\n",
       "       [-0.70576986, -1.03167271],\n",
       "       [ 1.07681071, -0.97368642],\n",
       "       [-1.10189888,  0.53395707],\n",
       "       [ 0.28455268, -0.50979612],\n",
       "       [-1.10189888,  0.41798449],\n",
       "       [-0.30964085, -1.43757673],\n",
       "       [ 0.48261718,  1.22979253],\n",
       "       [-1.10189888, -0.33583725],\n",
       "       [-0.11157634,  0.30201192],\n",
       "       [ 1.37390747,  0.59194336],\n",
       "       [-1.20093113, -1.14764529],\n",
       "       [ 1.07681071,  0.47597078],\n",
       "       [ 1.86906873,  1.51972397],\n",
       "       [-0.4086731 , -1.29261101],\n",
       "       [-0.30964085, -0.3648304 ],\n",
       "       [-0.4086731 ,  1.31677196],\n",
       "       [ 2.06713324,  0.53395707],\n",
       "       [ 0.68068169, -1.089659  ],\n",
       "       [-0.90383437,  0.38899135],\n",
       "       [-1.20093113,  0.30201192],\n",
       "       [ 1.07681071, -1.20563157],\n",
       "       [-1.49802789, -1.43757673],\n",
       "       [-0.60673761, -1.49556302],\n",
       "       [ 2.1661655 , -0.79972756],\n",
       "       [-1.89415691,  0.18603934],\n",
       "       [-0.21060859,  0.85288166],\n",
       "       [-1.89415691, -1.26361786],\n",
       "       [ 2.1661655 ,  0.38899135],\n",
       "       [-1.39899564,  0.56295021],\n",
       "       [-1.10189888, -0.33583725],\n",
       "       [ 0.18552042, -0.65476184],\n",
       "       [ 0.38358493,  0.01208048],\n",
       "       [-0.60673761,  2.331532  ],\n",
       "       [-0.30964085,  0.21503249],\n",
       "       [-1.59706014, -0.19087153],\n",
       "       [ 0.68068169, -1.37959044],\n",
       "       [-1.10189888,  0.56295021],\n",
       "       [-1.99318916,  0.35999821],\n",
       "       [ 0.38358493,  0.27301877],\n",
       "       [ 0.18552042, -0.27785096],\n",
       "       [ 1.47293972, -1.03167271],\n",
       "       [ 0.8787462 ,  1.08482681],\n",
       "       [ 1.96810099,  2.15757314],\n",
       "       [ 2.06713324,  0.38899135],\n",
       "       [-1.39899564, -0.42281668],\n",
       "       [-1.20093113, -1.00267957],\n",
       "       [ 1.96810099, -0.91570013],\n",
       "       [ 0.38358493,  0.30201192],\n",
       "       [ 0.18552042,  0.1570462 ],\n",
       "       [ 2.06713324,  1.75166912],\n",
       "       [ 0.77971394, -0.8287207 ],\n",
       "       [ 0.28455268, -0.27785096],\n",
       "       [ 0.38358493, -0.16187839],\n",
       "       [-0.11157634,  2.21555943],\n",
       "       [-1.49802789, -0.62576869],\n",
       "       [-1.29996338, -1.06066585],\n",
       "       [-1.39899564,  0.41798449],\n",
       "       [-1.10189888,  0.76590222],\n",
       "       [-1.49802789, -0.19087153],\n",
       "       [ 0.97777845, -1.06066585],\n",
       "       [ 0.97777845,  0.59194336],\n",
       "       [ 0.38358493,  0.99784738]])"
      ]
     },
     "execution_count": 12,
     "metadata": {},
     "output_type": "execute_result"
    }
   ],
   "source": [
    "X_test"
   ]
  },
  {
   "cell_type": "code",
   "execution_count": 13,
   "metadata": {},
   "outputs": [
    {
     "data": {
      "text/plain": [
       "(array([0, 0, 0, 0, 0, 0, 0, 1, 0, 1, 0, 0, 0, 0, 0, 0, 0, 0, 1, 0, 0, 1,\n",
       "        0, 1, 0, 1, 0, 0, 0, 0, 0, 0, 1, 0, 0, 0, 0, 0, 0, 1, 0, 0, 0, 0,\n",
       "        1, 0, 0, 1, 0, 1, 1, 0, 0, 0, 1, 0, 0, 0, 0, 0, 0, 1, 0, 0, 0, 1,\n",
       "        0, 0, 0, 0, 1, 0, 0, 0, 0, 0, 1, 0, 1, 1, 1, 1, 0, 0, 1, 1, 0, 1,\n",
       "        0, 0, 0, 1, 0, 0, 0, 0, 0, 0, 1, 1], dtype=int64),\n",
       " array([[-0.80480212,  0.50496393],\n",
       "        [-0.01254409, -0.5677824 ],\n",
       "        [-0.30964085,  0.1570462 ],\n",
       "        [-0.80480212,  0.27301877],\n",
       "        [-0.30964085, -0.5677824 ],\n",
       "        [-1.10189888, -1.43757673],\n",
       "        [-0.70576986, -1.58254245],\n",
       "        [-0.21060859,  2.15757314],\n",
       "        [-1.99318916, -0.04590581],\n",
       "        [ 0.8787462 , -0.77073441],\n",
       "        [-0.80480212, -0.59677555],\n",
       "        [-1.00286662, -0.42281668],\n",
       "        [-0.11157634, -0.42281668],\n",
       "        [ 0.08648817,  0.21503249],\n",
       "        [-1.79512465,  0.47597078],\n",
       "        [-0.60673761,  1.37475825],\n",
       "        [-0.11157634,  0.21503249],\n",
       "        [-1.89415691,  0.44697764],\n",
       "        [ 1.67100423,  1.75166912],\n",
       "        [-0.30964085, -1.37959044],\n",
       "        [-0.30964085, -0.65476184],\n",
       "        [ 0.8787462 ,  2.15757314],\n",
       "        [ 0.28455268, -0.53878926],\n",
       "        [ 0.8787462 ,  1.02684052],\n",
       "        [-1.49802789, -1.20563157],\n",
       "        [ 1.07681071,  2.07059371],\n",
       "        [-1.00286662,  0.50496393],\n",
       "        [-0.90383437,  0.30201192],\n",
       "        [-0.11157634, -0.21986468],\n",
       "        [-0.60673761,  0.47597078],\n",
       "        [-1.6960924 ,  0.53395707],\n",
       "        [-0.11157634,  0.27301877],\n",
       "        [ 1.86906873, -0.27785096],\n",
       "        [-0.11157634, -0.48080297],\n",
       "        [-1.39899564, -0.33583725],\n",
       "        [-1.99318916, -0.50979612],\n",
       "        [-1.59706014,  0.33100506],\n",
       "        [-0.4086731 , -0.77073441],\n",
       "        [-0.70576986, -1.03167271],\n",
       "        [ 1.07681071, -0.97368642],\n",
       "        [-1.10189888,  0.53395707],\n",
       "        [ 0.28455268, -0.50979612],\n",
       "        [-1.10189888,  0.41798449],\n",
       "        [-0.30964085, -1.43757673],\n",
       "        [ 0.48261718,  1.22979253],\n",
       "        [-1.10189888, -0.33583725],\n",
       "        [-0.11157634,  0.30201192],\n",
       "        [ 1.37390747,  0.59194336],\n",
       "        [-1.20093113, -1.14764529],\n",
       "        [ 1.07681071,  0.47597078],\n",
       "        [ 1.86906873,  1.51972397],\n",
       "        [-0.4086731 , -1.29261101],\n",
       "        [-0.30964085, -0.3648304 ],\n",
       "        [-0.4086731 ,  1.31677196],\n",
       "        [ 2.06713324,  0.53395707],\n",
       "        [ 0.68068169, -1.089659  ],\n",
       "        [-0.90383437,  0.38899135],\n",
       "        [-1.20093113,  0.30201192],\n",
       "        [ 1.07681071, -1.20563157],\n",
       "        [-1.49802789, -1.43757673],\n",
       "        [-0.60673761, -1.49556302],\n",
       "        [ 2.1661655 , -0.79972756],\n",
       "        [-1.89415691,  0.18603934],\n",
       "        [-0.21060859,  0.85288166],\n",
       "        [-1.89415691, -1.26361786],\n",
       "        [ 2.1661655 ,  0.38899135],\n",
       "        [-1.39899564,  0.56295021],\n",
       "        [-1.10189888, -0.33583725],\n",
       "        [ 0.18552042, -0.65476184],\n",
       "        [ 0.38358493,  0.01208048],\n",
       "        [-0.60673761,  2.331532  ],\n",
       "        [-0.30964085,  0.21503249],\n",
       "        [-1.59706014, -0.19087153],\n",
       "        [ 0.68068169, -1.37959044],\n",
       "        [-1.10189888,  0.56295021],\n",
       "        [-1.99318916,  0.35999821],\n",
       "        [ 0.38358493,  0.27301877],\n",
       "        [ 0.18552042, -0.27785096],\n",
       "        [ 1.47293972, -1.03167271],\n",
       "        [ 0.8787462 ,  1.08482681],\n",
       "        [ 1.96810099,  2.15757314],\n",
       "        [ 2.06713324,  0.38899135],\n",
       "        [-1.39899564, -0.42281668],\n",
       "        [-1.20093113, -1.00267957],\n",
       "        [ 1.96810099, -0.91570013],\n",
       "        [ 0.38358493,  0.30201192],\n",
       "        [ 0.18552042,  0.1570462 ],\n",
       "        [ 2.06713324,  1.75166912],\n",
       "        [ 0.77971394, -0.8287207 ],\n",
       "        [ 0.28455268, -0.27785096],\n",
       "        [ 0.38358493, -0.16187839],\n",
       "        [-0.11157634,  2.21555943],\n",
       "        [-1.49802789, -0.62576869],\n",
       "        [-1.29996338, -1.06066585],\n",
       "        [-1.39899564,  0.41798449],\n",
       "        [-1.10189888,  0.76590222],\n",
       "        [-1.49802789, -0.19087153],\n",
       "        [ 0.97777845, -1.06066585],\n",
       "        [ 0.97777845,  0.59194336],\n",
       "        [ 0.38358493,  0.99784738]]))"
      ]
     },
     "execution_count": 13,
     "metadata": {},
     "output_type": "execute_result"
    }
   ],
   "source": [
    "y_pred, X_test"
   ]
  },
  {
   "cell_type": "code",
   "execution_count": 26,
   "metadata": {},
   "outputs": [],
   "source": [
    "from sklearn.metrics import confusion_matrix"
   ]
  },
  {
   "cell_type": "code",
   "execution_count": 27,
   "metadata": {},
   "outputs": [],
   "source": [
    "cm = confusion_matrix(y_test, y_pred)"
   ]
  },
  {
   "cell_type": "code",
   "execution_count": 28,
   "metadata": {},
   "outputs": [
    {
     "data": {
      "text/plain": [
       "array([[64,  4],\n",
       "       [ 3, 29]], dtype=int64)"
      ]
     },
     "execution_count": 28,
     "metadata": {},
     "output_type": "execute_result"
    }
   ],
   "source": [
    "cm"
   ]
  },
  {
   "cell_type": "code",
   "execution_count": 17,
   "metadata": {},
   "outputs": [],
   "source": [
    "import numpy as np"
   ]
  },
  {
   "cell_type": "code",
   "execution_count": 18,
   "metadata": {},
   "outputs": [],
   "source": [
    "from matplotlib.colors import ListedColormap"
   ]
  },
  {
   "cell_type": "code",
   "execution_count": 19,
   "metadata": {},
   "outputs": [],
   "source": [
    "X_set, y_set = X_train, y_train"
   ]
  },
  {
   "cell_type": "code",
   "execution_count": 20,
   "metadata": {},
   "outputs": [],
   "source": [
    "X1,X2 = np.meshgrid(np.arange(start = X_set[:, 0].min()-1, stop = X_set[:, 0].max()+1, step = 0.01)), np.meshgrid(np.arange(start = X_set[:, 1].min()-1, stop = X_set[:, 1].max()+1, step = 0.01))"
   ]
  },
  {
   "cell_type": "code",
   "execution_count": null,
   "metadata": {},
   "outputs": [],
   "source": [
    "plt.contourf(X1, X2, classifier.predict(np.array([X1.ravel(), X2.ravel()]).T).reshape(X1.shape), alpha = 0.75, cmap = ListedColormap(('red', 'green')))"
   ]
  },
  {
   "cell_type": "code",
   "execution_count": 23,
   "metadata": {},
   "outputs": [
    {
     "name": "stderr",
     "output_type": "stream",
     "text": [
      "No handles with labels found to put in legend.\n"
     ]
    },
    {
     "data": {
      "image/png": "[encoded data removed]",
      "text/plain": [
       "<Figure size 432x288 with 1 Axes>"
      ]
     },
     "metadata": {
      "needs_background": "light"
     },
     "output_type": "display_data"
    }
   ],
   "source": [
    "plt.title('Logistics Regression(Test set)')\n",
    "plt.xlabel('Age')\n",
    "plt.ylabel('Esgimated Salary')\n",
    "plt.legend()\n",
    "plt.show()"
   ]
  },
  {
   "cell_type": "code",
   "execution_count": null,
   "metadata": {},
   "outputs": [],
   "source": []
  }
 ],
 "metadata": {
  "kernelspec": {
   "display_name": "Python 3",
   "language": "python",
   "name": "python3"
  },
  "language_info": {
   "codemirror_mode": {
    "name": "ipython",
    "version": 3
   },
   "file_extension": ".py",
   "mimetype": "text/x-python",
   "name": "python",
   "nbconvert_exporter": "python",
   "pygments_lexer": "ipython3",
   "version": "3.7.6"
  }
 },
 "nbformat": 4,
 "nbformat_minor": 4
}
